{
 "cells": [
  {
   "cell_type": "markdown",
   "metadata": {},
   "source": [
    "# WEB SCRAPPING - CYBERTESIS - FISI"
   ]
  },
  {
   "cell_type": "code",
   "execution_count": 1,
   "metadata": {},
   "outputs": [],
   "source": [
    "import pandas as pd"
   ]
  },
  {
   "cell_type": "markdown",
   "metadata": {},
   "source": [
    "#### Cargamos el CSV a DF"
   ]
  },
  {
   "cell_type": "code",
   "execution_count": 6,
   "metadata": {},
   "outputs": [],
   "source": [
    "df = pd.read_csv('publicaciones_cybertesis_UNMSM.csv', sep  = ',')"
   ]
  },
  {
   "cell_type": "markdown",
   "metadata": {},
   "source": [
    "### Verifcamos que se Cargaron los Datos Correctamente"
   ]
  },
  {
   "cell_type": "code",
   "execution_count": 3,
   "metadata": {},
   "outputs": [
    {
     "data": {
      "text/html": [
       "<div>\n",
       "<style scoped>\n",
       "    .dataframe tbody tr th:only-of-type {\n",
       "        vertical-align: middle;\n",
       "    }\n",
       "\n",
       "    .dataframe tbody tr th {\n",
       "        vertical-align: top;\n",
       "    }\n",
       "\n",
       "    .dataframe thead th {\n",
       "        text-align: right;\n",
       "    }\n",
       "</style>\n",
       "<table border=\"1\" class=\"dataframe\">\n",
       "  <thead>\n",
       "    <tr style=\"text-align: right;\">\n",
       "      <th></th>\n",
       "      <th>Titulo</th>\n",
       "      <th>Anio</th>\n",
       "      <th>Autor(es)</th>\n",
       "    </tr>\n",
       "  </thead>\n",
       "  <tbody>\n",
       "    <tr>\n",
       "      <th>0</th>\n",
       "      <td>Análisis basado en grafos para programas de es...</td>\n",
       "      <td>2024</td>\n",
       "      <td>Alvarado Revata, Jorge</td>\n",
       "    </tr>\n",
       "    <tr>\n",
       "      <th>1</th>\n",
       "      <td>Análisis bibliométrico de la revista RISI de l...</td>\n",
       "      <td>2017</td>\n",
       "      <td>Luza Montero, César</td>\n",
       "    </tr>\n",
       "    <tr>\n",
       "      <th>2</th>\n",
       "      <td>Análisis de usabilidad de los CMS para comerci...</td>\n",
       "      <td>2011</td>\n",
       "      <td>Alvarado Pérez, Rony Arturo</td>\n",
       "    </tr>\n",
       "    <tr>\n",
       "      <th>3</th>\n",
       "      <td>Análisis y diseño de un sistema de control de ...</td>\n",
       "      <td>2003</td>\n",
       "      <td>Oré Pérez, Elmer Dante, Valverde Suárez, Oscar...</td>\n",
       "    </tr>\n",
       "    <tr>\n",
       "      <th>4</th>\n",
       "      <td>Aplicación de una metodología basada en el uso...</td>\n",
       "      <td>2021</td>\n",
       "      <td>Vega Huerta, Hugo Froilán</td>\n",
       "    </tr>\n",
       "  </tbody>\n",
       "</table>\n",
       "</div>"
      ],
      "text/plain": [
       "                                              Titulo  Anio  \\\n",
       "0  Análisis basado en grafos para programas de es...  2024   \n",
       "1  Análisis bibliométrico de la revista RISI de l...  2017   \n",
       "2  Análisis de usabilidad de los CMS para comerci...  2011   \n",
       "3  Análisis y diseño de un sistema de control de ...  2003   \n",
       "4  Aplicación de una metodología basada en el uso...  2021   \n",
       "\n",
       "                                           Autor(es)  \n",
       "0                             Alvarado Revata, Jorge  \n",
       "1                                Luza Montero, César  \n",
       "2                        Alvarado Pérez, Rony Arturo  \n",
       "3  Oré Pérez, Elmer Dante, Valverde Suárez, Oscar...  \n",
       "4                          Vega Huerta, Hugo Froilán  "
      ]
     },
     "execution_count": 3,
     "metadata": {},
     "output_type": "execute_result"
    }
   ],
   "source": [
    "df.head()"
   ]
  },
  {
   "cell_type": "markdown",
   "metadata": {},
   "source": [
    "### Cantidad de Extraida a la fecha 14/11/2024 - FISI - Tesis EP Ingeniería de Sistemas"
   ]
  },
  {
   "cell_type": "code",
   "execution_count": 7,
   "metadata": {},
   "outputs": [
    {
     "data": {
      "text/plain": [
       "Titulo       129\n",
       "Anio         129\n",
       "Autor(es)    129\n",
       "dtype: int64"
      ]
     },
     "execution_count": 7,
     "metadata": {},
     "output_type": "execute_result"
    }
   ],
   "source": [
    "df.count()"
   ]
  },
  {
   "cell_type": "markdown",
   "metadata": {},
   "source": [
    "#### Validacion de Perdida de Datos"
   ]
  },
  {
   "cell_type": "code",
   "execution_count": 5,
   "metadata": {},
   "outputs": [
    {
     "data": {
      "text/plain": [
       "Titulo       0\n",
       "Anio         0\n",
       "Autor(es)    0\n",
       "dtype: int64"
      ]
     },
     "execution_count": 5,
     "metadata": {},
     "output_type": "execute_result"
    }
   ],
   "source": [
    "df.isnull().sum()"
   ]
  }
 ],
 "metadata": {
  "kernelspec": {
   "display_name": "Python 3",
   "language": "python",
   "name": "python3"
  },
  "language_info": {
   "codemirror_mode": {
    "name": "ipython",
    "version": 3
   },
   "file_extension": ".py",
   "mimetype": "text/x-python",
   "name": "python",
   "nbconvert_exporter": "python",
   "pygments_lexer": "ipython3",
   "version": "3.10.11"
  }
 },
 "nbformat": 4,
 "nbformat_minor": 2
}
